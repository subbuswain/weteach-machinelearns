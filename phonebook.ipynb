{
 "cells": [
  {
   "cell_type": "markdown",
   "id": "a4e6c315",
   "metadata": {},
   "source": []
  },
  {
   "cell_type": "code",
   "execution_count": null,
   "id": "54775297",
   "metadata": {},
   "outputs": [],
   "source": [
    "{\n",
    "    \"name\": \"ABC\",\n",
    "    'contact': 54676578,\n",
    "    'city': \"www\"\n",
    "}"
   ]
  },
  {
   "cell_type": "code",
   "execution_count": 5,
   "id": "1ea49354",
   "metadata": {},
   "outputs": [
    {
     "name": "stdout",
     "output_type": "stream",
     "text": [
      "Menu:\n",
      "1. Add Contact\n",
      "2. Search Contact\n",
      "3. Display All\n",
      "4. Exit\n",
      "Name: ABC, Phone: 453454675, City: AAA\n",
      "Name: XYZ, Phone: 987676554, City: BBB\n",
      "Name: Amar, Phone: 76576576, City: \n",
      "Name: Ajax, Phone: 976684574, City: \n",
      "Name: Travor, Phone: 658767896, City: UUU\n",
      "Name: Bhavya, Phone: 86764554, City: BLR\n",
      "Name: Akhil, Phone: 876867643, City: CHN\n",
      "Name: Vamshi, Phone: 78678553, City: HYD\n",
      "Name: Revanth, Phone: 5456467, City: CHN\n",
      "Menu:\n",
      "1. Add Contact\n",
      "2. Search Contact\n",
      "3. Display All\n",
      "4. Exit\n",
      "1st Prize:  Car Winner:  Ajax\n",
      "2nd Prize:  Bike Winner:  Revanth\n",
      "3rd Prize:  Cycle Winner:  Travor\n"
     ]
    }
   ],
   "source": [
    "# Data Structure: list of dictionaries\n",
    "# Add contact\n",
    "# Search contact\n",
    "# Display all contacts\n",
    "from contacts import *\n",
    "import random as r\n",
    "while True:\n",
    "    print(\"Menu:\\n1. Add Contact\\n2. Search Contact\\n3. Display All\\n4. Exit\")\n",
    "    choice = int(input('Enter your choice: '))\n",
    "    if choice == 1:\n",
    "        name = input('Enter the person name: ')\n",
    "        phone = int(input('Enter the phone number: '))\n",
    "        city = input('Enter the city: ')\n",
    "        contact = {'name': name, 'phone': phone, 'city': city}\n",
    "        addContact(contact)\n",
    "    elif choice == 2:\n",
    "        name = input('Enter a name to search: ')\n",
    "        info = searchContact(name)\n",
    "        if info != None:\n",
    "            print(info)\n",
    "        else:\n",
    "            print('User not found')\n",
    "    elif choice == 3:\n",
    "        displayAll()\n",
    "    elif choice == 4:\n",
    "        break;\n",
    "    else:\n",
    "        print('Invalid input, please re-enter your choice.')\n",
    "\n",
    "winners = []\n",
    "prizes = {1: \"Car\", 2: \"Bike\", 3: \"Cycle\"}\n",
    "\n",
    "while len(winners) != 3:\n",
    "    luckyWinner = r.choice(phonebook)\n",
    "    if luckyWinner['name'] not in winners:\n",
    "        winners.append(luckyWinner['name'])\n",
    "\n",
    "print(\"1st Prize: \", prizes[1], \"Winner: \", winners[2])\n",
    "print(\"2nd Prize: \", prizes[2], \"Winner: \", winners[1])\n",
    "print(\"3rd Prize: \", prizes[3], \"Winner: \", winners[0])\n",
    "   \n",
    "\n"
   ]
  },
  {
   "cell_type": "code",
   "execution_count": null,
   "id": "ee920d94",
   "metadata": {},
   "outputs": [],
   "source": []
  }
 ],
 "metadata": {
  "kernelspec": {
   "display_name": "Python 3",
   "language": "python",
   "name": "python3"
  },
  "language_info": {
   "codemirror_mode": {
    "name": "ipython",
    "version": 3
   },
   "file_extension": ".py",
   "mimetype": "text/x-python",
   "name": "python",
   "nbconvert_exporter": "python",
   "pygments_lexer": "ipython3",
   "version": "3.10.16"
  }
 },
 "nbformat": 4,
 "nbformat_minor": 5
}
