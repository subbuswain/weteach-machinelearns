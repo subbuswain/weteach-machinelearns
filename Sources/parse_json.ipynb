{
 "cells": [
  {
   "cell_type": "code",
   "execution_count": 1,
   "id": "99a7866e",
   "metadata": {},
   "outputs": [],
   "source": [
    "import json"
   ]
  },
  {
   "cell_type": "code",
   "execution_count": 2,
   "id": "abdd2029",
   "metadata": {},
   "outputs": [],
   "source": [
    "org_data = '''\n",
    "    {\n",
    "        \"org_name\": \"ABC CORP\",\n",
    "        \"city\": \"Bengaluru\",\n",
    "        \"employees\": [\n",
    "            {\n",
    "                \"emp_id\": 101,\n",
    "                \"emp_name\": \"Aakash\",\n",
    "                \"salary\": 32750\n",
    "            },\n",
    "            {\n",
    "                \"emp_id\": 201,\n",
    "                \"emp_name\": \"Annapurna\",\n",
    "                \"salary\": 67550\n",
    "            },\n",
    "            {\n",
    "                \"emp_id\": 301,\n",
    "                \"emp_name\": \"Arun\",\n",
    "                \"salary\": 48700\n",
    "            }\n",
    "        ]\n",
    "    }\n",
    "'''"
   ]
  },
  {
   "cell_type": "code",
   "execution_count": 3,
   "id": "528df64c",
   "metadata": {},
   "outputs": [
    {
     "name": "stdout",
     "output_type": "stream",
     "text": [
      "{'org_name': 'ABC CORP', 'city': 'Bengaluru', 'employees': [{'emp_id': 101, 'emp_name': 'Aakash', 'salary': 32750}, {'emp_id': 201, 'emp_name': 'Annapurna', 'salary': 67550}, {'emp_id': 301, 'emp_name': 'Arun', 'salary': 48700}]}\n"
     ]
    }
   ],
   "source": [
    "data = json.loads(org_data)\n",
    "print(data)"
   ]
  },
  {
   "cell_type": "code",
   "execution_count": 4,
   "id": "075fcc9e",
   "metadata": {},
   "outputs": [
    {
     "name": "stdout",
     "output_type": "stream",
     "text": [
      "ABC CORP\n",
      "Bengaluru\n",
      "[{'emp_id': 101, 'emp_name': 'Aakash', 'salary': 32750}, {'emp_id': 201, 'emp_name': 'Annapurna', 'salary': 67550}, {'emp_id': 301, 'emp_name': 'Arun', 'salary': 48700}]\n"
     ]
    }
   ],
   "source": [
    "print(data['org_name'])\n",
    "print(data['city'])\n",
    "print(data['employees'])"
   ]
  },
  {
   "cell_type": "code",
   "execution_count": 5,
   "id": "0477a032",
   "metadata": {},
   "outputs": [
    {
     "name": "stdout",
     "output_type": "stream",
     "text": [
      "{'emp_id': 101, 'emp_name': 'Aakash', 'salary': 32750}\n",
      "{'emp_id': 201, 'emp_name': 'Annapurna', 'salary': 67550}\n",
      "{'emp_id': 301, 'emp_name': 'Arun', 'salary': 48700}\n"
     ]
    }
   ],
   "source": [
    "for employee in data['employees']:\n",
    "    print(employee)"
   ]
  },
  {
   "cell_type": "code",
   "execution_count": 8,
   "id": "e7ad80e0",
   "metadata": {},
   "outputs": [
    {
     "name": "stdout",
     "output_type": "stream",
     "text": [
      "Annapurna\n"
     ]
    }
   ],
   "source": [
    "print(data['employees'][1]['emp_name'])"
   ]
  },
  {
   "cell_type": "code",
   "execution_count": 9,
   "id": "66b6a89b",
   "metadata": {},
   "outputs": [
    {
     "name": "stdout",
     "output_type": "stream",
     "text": [
      "{'emp_id': 201, 'emp_name': 'Annapurna', 'salary': 67550}\n"
     ]
    }
   ],
   "source": [
    "for employee in data['employees']:\n",
    "    if(employee['emp_id'] == 201):\n",
    "        print(employee)"
   ]
  },
  {
   "cell_type": "code",
   "execution_count": 10,
   "id": "261b9694",
   "metadata": {},
   "outputs": [
    {
     "name": "stdout",
     "output_type": "stream",
     "text": [
      "{'emp_id': 101, 'emp_name': 'Aakash'}\n",
      "{'emp_id': 201, 'emp_name': 'Annapurna'}\n",
      "{'emp_id': 301, 'emp_name': 'Arun'}\n"
     ]
    }
   ],
   "source": [
    "for employee in data['employees']:\n",
    "    del employee['salary']\n",
    "    print(employee)"
   ]
  },
  {
   "cell_type": "code",
   "execution_count": 11,
   "id": "3b43ac33",
   "metadata": {},
   "outputs": [
    {
     "name": "stdout",
     "output_type": "stream",
     "text": [
      "{\"org_name\": \"ABC CORP\", \"city\": \"Bengaluru\", \"employees\": [{\"emp_id\": 101, \"emp_name\": \"Aakash\"}, {\"emp_id\": 201, \"emp_name\": \"Annapurna\"}, {\"emp_id\": 301, \"emp_name\": \"Arun\"}]}\n"
     ]
    }
   ],
   "source": [
    "new_data = json.dumps(data)\n",
    "print(new_data)"
   ]
  },
  {
   "cell_type": "code",
   "execution_count": 12,
   "id": "d821a982",
   "metadata": {},
   "outputs": [
    {
     "name": "stdout",
     "output_type": "stream",
     "text": [
      "{\n",
      "  \"org_name\": \"ABC CORP\",\n",
      "  \"city\": \"Bengaluru\",\n",
      "  \"employees\": [\n",
      "    {\n",
      "      \"emp_id\": 101,\n",
      "      \"emp_name\": \"Aakash\"\n",
      "    },\n",
      "    {\n",
      "      \"emp_id\": 201,\n",
      "      \"emp_name\": \"Annapurna\"\n",
      "    },\n",
      "    {\n",
      "      \"emp_id\": 301,\n",
      "      \"emp_name\": \"Arun\"\n",
      "    }\n",
      "  ]\n",
      "}\n"
     ]
    }
   ],
   "source": [
    "new_data = json.dumps(data, indent= 2)\n",
    "print(new_data)"
   ]
  },
  {
   "cell_type": "code",
   "execution_count": 13,
   "id": "b7544ac0",
   "metadata": {},
   "outputs": [
    {
     "name": "stdout",
     "output_type": "stream",
     "text": [
      "{'org_name': 'TechNova Solutions', 'city': 'Bengaluru', 'employees': [{'emp_id': 1, 'emp_name': 'Aarav Verma', 'salary': 55000}, {'emp_id': 2, 'emp_name': 'Isha Sharma', 'salary': 60000}, {'emp_id': 3, 'emp_name': 'Ravi Menon', 'salary': 58000}, {'emp_id': 4, 'emp_name': 'Neha Kapoor', 'salary': 62000}, {'emp_id': 5, 'emp_name': 'Arjun Nair', 'salary': 59000}, {'emp_id': 6, 'emp_name': 'Priya Iyer', 'salary': 61000}, {'emp_id': 7, 'emp_name': 'Kunal Sinha', 'salary': 57000}, {'emp_id': 8, 'emp_name': 'Meera Das', 'salary': 60500}, {'emp_id': 9, 'emp_name': 'Rohit Singh', 'salary': 61500}, {'emp_id': 10, 'emp_name': 'Ananya Ghosh', 'salary': 56000}, {'emp_id': 11, 'emp_name': 'Vikram Chatterjee', 'salary': 63000}, {'emp_id': 12, 'emp_name': 'Sonal Mehta', 'salary': 58500}, {'emp_id': 13, 'emp_name': 'Harshad Kulkarni', 'salary': 60000}, {'emp_id': 14, 'emp_name': 'Tanya Paul', 'salary': 55000}, {'emp_id': 15, 'emp_name': 'Dev Patel', 'salary': 62000}, {'emp_id': 16, 'emp_name': 'Simran Chauhan', 'salary': 59500}, {'emp_id': 17, 'emp_name': 'Nikhil Rao', 'salary': 57000}, {'emp_id': 18, 'emp_name': 'Pooja Bhatt', 'salary': 64000}, {'emp_id': 19, 'emp_name': 'Amit Desai', 'salary': 60500}, {'emp_id': 20, 'emp_name': 'Shreya Reddy', 'salary': 61500}, {'emp_id': 21, 'emp_name': 'Suresh Kumar', 'salary': 59000}, {'emp_id': 22, 'emp_name': 'Kiran Joshi', 'salary': 61000}, {'emp_id': 23, 'emp_name': 'Jyothi Raj', 'salary': 63000}, {'emp_id': 24, 'emp_name': 'Mohan Lal', 'salary': 58500}, {'emp_id': 25, 'emp_name': 'Leela Nair', 'salary': 56500}, {'emp_id': 26, 'emp_name': 'Sanjay Varma', 'salary': 60500}, {'emp_id': 27, 'emp_name': 'Deepika Sen', 'salary': 63500}, {'emp_id': 28, 'emp_name': 'Rajesh Gowda', 'salary': 57500}, {'emp_id': 29, 'emp_name': 'Kavya Pillai', 'salary': 60000}, {'emp_id': 30, 'emp_name': 'Vivek Shetty', 'salary': 62000}, {'emp_id': 31, 'emp_name': 'Anmol Sethi', 'salary': 60500}, {'emp_id': 32, 'emp_name': 'Swati Prasad', 'salary': 59000}, {'emp_id': 33, 'emp_name': 'Naresh Kothari', 'salary': 61000}, {'emp_id': 34, 'emp_name': 'Ritika Agarwal', 'salary': 64000}, {'emp_id': 35, 'emp_name': 'Akshay Bansal', 'salary': 57000}, {'emp_id': 36, 'emp_name': 'Geeta Mishra', 'salary': 55500}, {'emp_id': 37, 'emp_name': 'Tarun Gupta', 'salary': 61000}, {'emp_id': 38, 'emp_name': 'Monica Shah', 'salary': 61500}, {'emp_id': 39, 'emp_name': 'Arvind Krishnan', 'salary': 59500}, {'emp_id': 40, 'emp_name': 'Sneha Wadhwa', 'salary': 60500}, {'emp_id': 41, 'emp_name': 'Vishal Malhotra', 'salary': 62000}, {'emp_id': 42, 'emp_name': 'Parul Shinde', 'salary': 57000}, {'emp_id': 43, 'emp_name': 'Krishna Mohan', 'salary': 59000}, {'emp_id': 44, 'emp_name': 'Rupa Chawla', 'salary': 63500}, {'emp_id': 45, 'emp_name': 'Mahesh Srinivasan', 'salary': 58000}, {'emp_id': 46, 'emp_name': 'Uma Kulkarni', 'salary': 60000}, {'emp_id': 47, 'emp_name': 'Raman Pillai', 'salary': 61000}, {'emp_id': 48, 'emp_name': 'Pallavi Saxena', 'salary': 55500}, {'emp_id': 49, 'emp_name': 'Siddharth Mehra', 'salary': 64000}, {'emp_id': 50, 'emp_name': 'Juhi Anand', 'salary': 56500}, {'emp_id': 51, 'emp_name': 'Ankit Sharma', 'salary': 60500}, {'emp_id': 52, 'emp_name': 'Chitra Joshi', 'salary': 57500}, {'emp_id': 53, 'emp_name': 'Manoj Reddy', 'salary': 59500}, {'emp_id': 54, 'emp_name': 'Nandita Bose', 'salary': 61000}, {'emp_id': 55, 'emp_name': 'Yogesh Prasad', 'salary': 62000}, {'emp_id': 56, 'emp_name': 'Sanya Kapoor', 'salary': 60000}, {'emp_id': 57, 'emp_name': 'Rakesh Balakrishnan', 'salary': 55000}, {'emp_id': 58, 'emp_name': 'Vidya Khatri', 'salary': 56000}, {'emp_id': 59, 'emp_name': 'Harpreet Singh', 'salary': 63500}, {'emp_id': 60, 'emp_name': 'Meghna Trivedi', 'salary': 59000}, {'emp_id': 61, 'emp_name': 'Rajiv Saxena', 'salary': 60500}, {'emp_id': 62, 'emp_name': 'Seema Bhargava', 'salary': 57500}, {'emp_id': 63, 'emp_name': 'Ajay Banerjee', 'salary': 61000}, {'emp_id': 64, 'emp_name': 'Poonam Lata', 'salary': 58000}, {'emp_id': 65, 'emp_name': 'Sameer Pathak', 'salary': 64000}, {'emp_id': 66, 'emp_name': 'Kriti Deshmukh', 'salary': 62000}, {'emp_id': 67, 'emp_name': 'Rahul Arora', 'salary': 60000}, {'emp_id': 68, 'emp_name': 'Divya Pandey', 'salary': 59000}, {'emp_id': 69, 'emp_name': 'Zoya Khan', 'salary': 60500}, {'emp_id': 70, 'emp_name': 'Anupam Jain', 'salary': 63000}, {'emp_id': 71, 'emp_name': 'Nisha Pillai', 'salary': 62000}, {'emp_id': 72, 'emp_name': 'Sharad Iyer', 'salary': 61000}, {'emp_id': 73, 'emp_name': 'Varun Chopra', 'salary': 56500}, {'emp_id': 74, 'emp_name': 'Ira Bhatnagar', 'salary': 58500}, {'emp_id': 75, 'emp_name': 'Mohit Ahuja', 'salary': 59500}, {'emp_id': 76, 'emp_name': 'Rina Fernandes', 'salary': 60000}, {'emp_id': 77, 'emp_name': 'Vipul Shah', 'salary': 63000}, {'emp_id': 78, 'emp_name': 'Gayatri Naik', 'salary': 57500}, {'emp_id': 79, 'emp_name': 'Prakash Menon', 'salary': 62000}, {'emp_id': 80, 'emp_name': 'Shalini Raut', 'salary': 60500}, {'emp_id': 81, 'emp_name': 'Roshan Lal', 'salary': 61500}, {'emp_id': 82, 'emp_name': 'Tanvi Krishnan', 'salary': 59000}, {'emp_id': 83, 'emp_name': 'Ashwin Jha', 'salary': 57000}, {'emp_id': 84, 'emp_name': 'Rekha Gupta', 'salary': 56500}, {'emp_id': 85, 'emp_name': 'Yash Malhotra', 'salary': 61000}, {'emp_id': 86, 'emp_name': 'Snehal Patil', 'salary': 63000}, {'emp_id': 87, 'emp_name': 'Omkar Chhabra', 'salary': 60500}, {'emp_id': 88, 'emp_name': 'Keshaan Bhutani', 'salary': 60000}, {'emp_id': 89, 'emp_name': 'Lavanya Suri', 'salary': 61500}, {'emp_id': 90, 'emp_name': 'Saket Rawat', 'salary': 59500}, {'emp_id': 91, 'emp_name': 'Irfan Qureshi', 'salary': 59000}, {'emp_id': 92, 'emp_name': 'Alka Damle', 'salary': 60500}, {'emp_id': 93, 'emp_name': 'Sunita Pawar', 'salary': 62000}, {'emp_id': 94, 'emp_name': 'Jatin Batra', 'salary': 63000}, {'emp_id': 95, 'emp_name': 'Kajal Sanghvi', 'salary': 61000}, {'emp_id': 96, 'emp_name': 'Tejas Vaidya', 'salary': 60000}, {'emp_id': 97, 'emp_name': 'Farhan Mirza', 'salary': 63500}, {'emp_id': 98, 'emp_name': 'Bhavana Parikh', 'salary': 57000}, {'emp_id': 99, 'emp_name': 'Sandeep Waghela', 'salary': 56000}, {'emp_id': 100, 'emp_name': 'Chandni Gokhale', 'salary': 58000}]}\n"
     ]
    }
   ],
   "source": [
    "with open('./../Datasets/company_data.json', 'r') as fjson:\n",
    "    org_data = json.load(fjson)\n",
    "    print(org_data)"
   ]
  },
  {
   "cell_type": "code",
   "execution_count": 14,
   "id": "eca1a319",
   "metadata": {},
   "outputs": [
    {
     "name": "stdout",
     "output_type": "stream",
     "text": [
      "{'emp_id': 1, 'emp_name': 'Aarav Verma', 'salary': 55000}\n",
      "{'emp_id': 2, 'emp_name': 'Isha Sharma', 'salary': 60000}\n",
      "{'emp_id': 3, 'emp_name': 'Ravi Menon', 'salary': 58000}\n",
      "{'emp_id': 4, 'emp_name': 'Neha Kapoor', 'salary': 62000}\n",
      "{'emp_id': 5, 'emp_name': 'Arjun Nair', 'salary': 59000}\n",
      "{'emp_id': 6, 'emp_name': 'Priya Iyer', 'salary': 61000}\n",
      "{'emp_id': 7, 'emp_name': 'Kunal Sinha', 'salary': 57000}\n",
      "{'emp_id': 8, 'emp_name': 'Meera Das', 'salary': 60500}\n",
      "{'emp_id': 9, 'emp_name': 'Rohit Singh', 'salary': 61500}\n",
      "{'emp_id': 10, 'emp_name': 'Ananya Ghosh', 'salary': 56000}\n",
      "{'emp_id': 11, 'emp_name': 'Vikram Chatterjee', 'salary': 63000}\n",
      "{'emp_id': 12, 'emp_name': 'Sonal Mehta', 'salary': 58500}\n",
      "{'emp_id': 13, 'emp_name': 'Harshad Kulkarni', 'salary': 60000}\n",
      "{'emp_id': 14, 'emp_name': 'Tanya Paul', 'salary': 55000}\n",
      "{'emp_id': 15, 'emp_name': 'Dev Patel', 'salary': 62000}\n",
      "{'emp_id': 16, 'emp_name': 'Simran Chauhan', 'salary': 59500}\n",
      "{'emp_id': 17, 'emp_name': 'Nikhil Rao', 'salary': 57000}\n",
      "{'emp_id': 18, 'emp_name': 'Pooja Bhatt', 'salary': 64000}\n",
      "{'emp_id': 19, 'emp_name': 'Amit Desai', 'salary': 60500}\n",
      "{'emp_id': 20, 'emp_name': 'Shreya Reddy', 'salary': 61500}\n",
      "{'emp_id': 21, 'emp_name': 'Suresh Kumar', 'salary': 59000}\n",
      "{'emp_id': 22, 'emp_name': 'Kiran Joshi', 'salary': 61000}\n",
      "{'emp_id': 23, 'emp_name': 'Jyothi Raj', 'salary': 63000}\n",
      "{'emp_id': 24, 'emp_name': 'Mohan Lal', 'salary': 58500}\n",
      "{'emp_id': 25, 'emp_name': 'Leela Nair', 'salary': 56500}\n",
      "{'emp_id': 26, 'emp_name': 'Sanjay Varma', 'salary': 60500}\n",
      "{'emp_id': 27, 'emp_name': 'Deepika Sen', 'salary': 63500}\n",
      "{'emp_id': 28, 'emp_name': 'Rajesh Gowda', 'salary': 57500}\n",
      "{'emp_id': 29, 'emp_name': 'Kavya Pillai', 'salary': 60000}\n",
      "{'emp_id': 30, 'emp_name': 'Vivek Shetty', 'salary': 62000}\n",
      "{'emp_id': 31, 'emp_name': 'Anmol Sethi', 'salary': 60500}\n",
      "{'emp_id': 32, 'emp_name': 'Swati Prasad', 'salary': 59000}\n",
      "{'emp_id': 33, 'emp_name': 'Naresh Kothari', 'salary': 61000}\n",
      "{'emp_id': 34, 'emp_name': 'Ritika Agarwal', 'salary': 64000}\n",
      "{'emp_id': 35, 'emp_name': 'Akshay Bansal', 'salary': 57000}\n",
      "{'emp_id': 36, 'emp_name': 'Geeta Mishra', 'salary': 55500}\n",
      "{'emp_id': 37, 'emp_name': 'Tarun Gupta', 'salary': 61000}\n",
      "{'emp_id': 38, 'emp_name': 'Monica Shah', 'salary': 61500}\n",
      "{'emp_id': 39, 'emp_name': 'Arvind Krishnan', 'salary': 59500}\n",
      "{'emp_id': 40, 'emp_name': 'Sneha Wadhwa', 'salary': 60500}\n",
      "{'emp_id': 41, 'emp_name': 'Vishal Malhotra', 'salary': 62000}\n",
      "{'emp_id': 42, 'emp_name': 'Parul Shinde', 'salary': 57000}\n",
      "{'emp_id': 43, 'emp_name': 'Krishna Mohan', 'salary': 59000}\n",
      "{'emp_id': 44, 'emp_name': 'Rupa Chawla', 'salary': 63500}\n",
      "{'emp_id': 45, 'emp_name': 'Mahesh Srinivasan', 'salary': 58000}\n",
      "{'emp_id': 46, 'emp_name': 'Uma Kulkarni', 'salary': 60000}\n",
      "{'emp_id': 47, 'emp_name': 'Raman Pillai', 'salary': 61000}\n",
      "{'emp_id': 48, 'emp_name': 'Pallavi Saxena', 'salary': 55500}\n",
      "{'emp_id': 49, 'emp_name': 'Siddharth Mehra', 'salary': 64000}\n",
      "{'emp_id': 50, 'emp_name': 'Juhi Anand', 'salary': 56500}\n",
      "{'emp_id': 51, 'emp_name': 'Ankit Sharma', 'salary': 60500}\n",
      "{'emp_id': 52, 'emp_name': 'Chitra Joshi', 'salary': 57500}\n",
      "{'emp_id': 53, 'emp_name': 'Manoj Reddy', 'salary': 59500}\n",
      "{'emp_id': 54, 'emp_name': 'Nandita Bose', 'salary': 61000}\n",
      "{'emp_id': 55, 'emp_name': 'Yogesh Prasad', 'salary': 62000}\n",
      "{'emp_id': 56, 'emp_name': 'Sanya Kapoor', 'salary': 60000}\n",
      "{'emp_id': 57, 'emp_name': 'Rakesh Balakrishnan', 'salary': 55000}\n",
      "{'emp_id': 58, 'emp_name': 'Vidya Khatri', 'salary': 56000}\n",
      "{'emp_id': 59, 'emp_name': 'Harpreet Singh', 'salary': 63500}\n",
      "{'emp_id': 60, 'emp_name': 'Meghna Trivedi', 'salary': 59000}\n",
      "{'emp_id': 61, 'emp_name': 'Rajiv Saxena', 'salary': 60500}\n",
      "{'emp_id': 62, 'emp_name': 'Seema Bhargava', 'salary': 57500}\n",
      "{'emp_id': 63, 'emp_name': 'Ajay Banerjee', 'salary': 61000}\n",
      "{'emp_id': 64, 'emp_name': 'Poonam Lata', 'salary': 58000}\n",
      "{'emp_id': 65, 'emp_name': 'Sameer Pathak', 'salary': 64000}\n",
      "{'emp_id': 66, 'emp_name': 'Kriti Deshmukh', 'salary': 62000}\n",
      "{'emp_id': 67, 'emp_name': 'Rahul Arora', 'salary': 60000}\n",
      "{'emp_id': 68, 'emp_name': 'Divya Pandey', 'salary': 59000}\n",
      "{'emp_id': 69, 'emp_name': 'Zoya Khan', 'salary': 60500}\n",
      "{'emp_id': 70, 'emp_name': 'Anupam Jain', 'salary': 63000}\n",
      "{'emp_id': 71, 'emp_name': 'Nisha Pillai', 'salary': 62000}\n",
      "{'emp_id': 72, 'emp_name': 'Sharad Iyer', 'salary': 61000}\n",
      "{'emp_id': 73, 'emp_name': 'Varun Chopra', 'salary': 56500}\n",
      "{'emp_id': 74, 'emp_name': 'Ira Bhatnagar', 'salary': 58500}\n",
      "{'emp_id': 75, 'emp_name': 'Mohit Ahuja', 'salary': 59500}\n",
      "{'emp_id': 76, 'emp_name': 'Rina Fernandes', 'salary': 60000}\n",
      "{'emp_id': 77, 'emp_name': 'Vipul Shah', 'salary': 63000}\n",
      "{'emp_id': 78, 'emp_name': 'Gayatri Naik', 'salary': 57500}\n",
      "{'emp_id': 79, 'emp_name': 'Prakash Menon', 'salary': 62000}\n",
      "{'emp_id': 80, 'emp_name': 'Shalini Raut', 'salary': 60500}\n",
      "{'emp_id': 81, 'emp_name': 'Roshan Lal', 'salary': 61500}\n",
      "{'emp_id': 82, 'emp_name': 'Tanvi Krishnan', 'salary': 59000}\n",
      "{'emp_id': 83, 'emp_name': 'Ashwin Jha', 'salary': 57000}\n",
      "{'emp_id': 84, 'emp_name': 'Rekha Gupta', 'salary': 56500}\n",
      "{'emp_id': 85, 'emp_name': 'Yash Malhotra', 'salary': 61000}\n",
      "{'emp_id': 86, 'emp_name': 'Snehal Patil', 'salary': 63000}\n",
      "{'emp_id': 87, 'emp_name': 'Omkar Chhabra', 'salary': 60500}\n",
      "{'emp_id': 88, 'emp_name': 'Keshaan Bhutani', 'salary': 60000}\n",
      "{'emp_id': 89, 'emp_name': 'Lavanya Suri', 'salary': 61500}\n",
      "{'emp_id': 90, 'emp_name': 'Saket Rawat', 'salary': 59500}\n",
      "{'emp_id': 91, 'emp_name': 'Irfan Qureshi', 'salary': 59000}\n",
      "{'emp_id': 92, 'emp_name': 'Alka Damle', 'salary': 60500}\n",
      "{'emp_id': 93, 'emp_name': 'Sunita Pawar', 'salary': 62000}\n",
      "{'emp_id': 94, 'emp_name': 'Jatin Batra', 'salary': 63000}\n",
      "{'emp_id': 95, 'emp_name': 'Kajal Sanghvi', 'salary': 61000}\n",
      "{'emp_id': 96, 'emp_name': 'Tejas Vaidya', 'salary': 60000}\n",
      "{'emp_id': 97, 'emp_name': 'Farhan Mirza', 'salary': 63500}\n",
      "{'emp_id': 98, 'emp_name': 'Bhavana Parikh', 'salary': 57000}\n",
      "{'emp_id': 99, 'emp_name': 'Sandeep Waghela', 'salary': 56000}\n",
      "{'emp_id': 100, 'emp_name': 'Chandni Gokhale', 'salary': 58000}\n"
     ]
    }
   ],
   "source": [
    "for employee in org_data['employees']:\n",
    "    print(employee)"
   ]
  },
  {
   "cell_type": "code",
   "execution_count": 15,
   "id": "eea10cbb",
   "metadata": {},
   "outputs": [
    {
     "name": "stdout",
     "output_type": "stream",
     "text": [
      "{'emp_id': 1, 'emp_name': 'Aarav Verma'}\n",
      "{'emp_id': 2, 'emp_name': 'Isha Sharma'}\n",
      "{'emp_id': 3, 'emp_name': 'Ravi Menon'}\n",
      "{'emp_id': 4, 'emp_name': 'Neha Kapoor'}\n",
      "{'emp_id': 5, 'emp_name': 'Arjun Nair'}\n",
      "{'emp_id': 6, 'emp_name': 'Priya Iyer'}\n",
      "{'emp_id': 7, 'emp_name': 'Kunal Sinha'}\n",
      "{'emp_id': 8, 'emp_name': 'Meera Das'}\n",
      "{'emp_id': 9, 'emp_name': 'Rohit Singh'}\n",
      "{'emp_id': 10, 'emp_name': 'Ananya Ghosh'}\n",
      "{'emp_id': 11, 'emp_name': 'Vikram Chatterjee'}\n",
      "{'emp_id': 12, 'emp_name': 'Sonal Mehta'}\n",
      "{'emp_id': 13, 'emp_name': 'Harshad Kulkarni'}\n",
      "{'emp_id': 14, 'emp_name': 'Tanya Paul'}\n",
      "{'emp_id': 15, 'emp_name': 'Dev Patel'}\n",
      "{'emp_id': 16, 'emp_name': 'Simran Chauhan'}\n",
      "{'emp_id': 17, 'emp_name': 'Nikhil Rao'}\n",
      "{'emp_id': 18, 'emp_name': 'Pooja Bhatt'}\n",
      "{'emp_id': 19, 'emp_name': 'Amit Desai'}\n",
      "{'emp_id': 20, 'emp_name': 'Shreya Reddy'}\n",
      "{'emp_id': 21, 'emp_name': 'Suresh Kumar'}\n",
      "{'emp_id': 22, 'emp_name': 'Kiran Joshi'}\n",
      "{'emp_id': 23, 'emp_name': 'Jyothi Raj'}\n",
      "{'emp_id': 24, 'emp_name': 'Mohan Lal'}\n",
      "{'emp_id': 25, 'emp_name': 'Leela Nair'}\n",
      "{'emp_id': 26, 'emp_name': 'Sanjay Varma'}\n",
      "{'emp_id': 27, 'emp_name': 'Deepika Sen'}\n",
      "{'emp_id': 28, 'emp_name': 'Rajesh Gowda'}\n",
      "{'emp_id': 29, 'emp_name': 'Kavya Pillai'}\n",
      "{'emp_id': 30, 'emp_name': 'Vivek Shetty'}\n",
      "{'emp_id': 31, 'emp_name': 'Anmol Sethi'}\n",
      "{'emp_id': 32, 'emp_name': 'Swati Prasad'}\n",
      "{'emp_id': 33, 'emp_name': 'Naresh Kothari'}\n",
      "{'emp_id': 34, 'emp_name': 'Ritika Agarwal'}\n",
      "{'emp_id': 35, 'emp_name': 'Akshay Bansal'}\n",
      "{'emp_id': 36, 'emp_name': 'Geeta Mishra'}\n",
      "{'emp_id': 37, 'emp_name': 'Tarun Gupta'}\n",
      "{'emp_id': 38, 'emp_name': 'Monica Shah'}\n",
      "{'emp_id': 39, 'emp_name': 'Arvind Krishnan'}\n",
      "{'emp_id': 40, 'emp_name': 'Sneha Wadhwa'}\n",
      "{'emp_id': 41, 'emp_name': 'Vishal Malhotra'}\n",
      "{'emp_id': 42, 'emp_name': 'Parul Shinde'}\n",
      "{'emp_id': 43, 'emp_name': 'Krishna Mohan'}\n",
      "{'emp_id': 44, 'emp_name': 'Rupa Chawla'}\n",
      "{'emp_id': 45, 'emp_name': 'Mahesh Srinivasan'}\n",
      "{'emp_id': 46, 'emp_name': 'Uma Kulkarni'}\n",
      "{'emp_id': 47, 'emp_name': 'Raman Pillai'}\n",
      "{'emp_id': 48, 'emp_name': 'Pallavi Saxena'}\n",
      "{'emp_id': 49, 'emp_name': 'Siddharth Mehra'}\n",
      "{'emp_id': 50, 'emp_name': 'Juhi Anand'}\n",
      "{'emp_id': 51, 'emp_name': 'Ankit Sharma'}\n",
      "{'emp_id': 52, 'emp_name': 'Chitra Joshi'}\n",
      "{'emp_id': 53, 'emp_name': 'Manoj Reddy'}\n",
      "{'emp_id': 54, 'emp_name': 'Nandita Bose'}\n",
      "{'emp_id': 55, 'emp_name': 'Yogesh Prasad'}\n",
      "{'emp_id': 56, 'emp_name': 'Sanya Kapoor'}\n",
      "{'emp_id': 57, 'emp_name': 'Rakesh Balakrishnan'}\n",
      "{'emp_id': 58, 'emp_name': 'Vidya Khatri'}\n",
      "{'emp_id': 59, 'emp_name': 'Harpreet Singh'}\n",
      "{'emp_id': 60, 'emp_name': 'Meghna Trivedi'}\n",
      "{'emp_id': 61, 'emp_name': 'Rajiv Saxena'}\n",
      "{'emp_id': 62, 'emp_name': 'Seema Bhargava'}\n",
      "{'emp_id': 63, 'emp_name': 'Ajay Banerjee'}\n",
      "{'emp_id': 64, 'emp_name': 'Poonam Lata'}\n",
      "{'emp_id': 65, 'emp_name': 'Sameer Pathak'}\n",
      "{'emp_id': 66, 'emp_name': 'Kriti Deshmukh'}\n",
      "{'emp_id': 67, 'emp_name': 'Rahul Arora'}\n",
      "{'emp_id': 68, 'emp_name': 'Divya Pandey'}\n",
      "{'emp_id': 69, 'emp_name': 'Zoya Khan'}\n",
      "{'emp_id': 70, 'emp_name': 'Anupam Jain'}\n",
      "{'emp_id': 71, 'emp_name': 'Nisha Pillai'}\n",
      "{'emp_id': 72, 'emp_name': 'Sharad Iyer'}\n",
      "{'emp_id': 73, 'emp_name': 'Varun Chopra'}\n",
      "{'emp_id': 74, 'emp_name': 'Ira Bhatnagar'}\n",
      "{'emp_id': 75, 'emp_name': 'Mohit Ahuja'}\n",
      "{'emp_id': 76, 'emp_name': 'Rina Fernandes'}\n",
      "{'emp_id': 77, 'emp_name': 'Vipul Shah'}\n",
      "{'emp_id': 78, 'emp_name': 'Gayatri Naik'}\n",
      "{'emp_id': 79, 'emp_name': 'Prakash Menon'}\n",
      "{'emp_id': 80, 'emp_name': 'Shalini Raut'}\n",
      "{'emp_id': 81, 'emp_name': 'Roshan Lal'}\n",
      "{'emp_id': 82, 'emp_name': 'Tanvi Krishnan'}\n",
      "{'emp_id': 83, 'emp_name': 'Ashwin Jha'}\n",
      "{'emp_id': 84, 'emp_name': 'Rekha Gupta'}\n",
      "{'emp_id': 85, 'emp_name': 'Yash Malhotra'}\n",
      "{'emp_id': 86, 'emp_name': 'Snehal Patil'}\n",
      "{'emp_id': 87, 'emp_name': 'Omkar Chhabra'}\n",
      "{'emp_id': 88, 'emp_name': 'Keshaan Bhutani'}\n",
      "{'emp_id': 89, 'emp_name': 'Lavanya Suri'}\n",
      "{'emp_id': 90, 'emp_name': 'Saket Rawat'}\n",
      "{'emp_id': 91, 'emp_name': 'Irfan Qureshi'}\n",
      "{'emp_id': 92, 'emp_name': 'Alka Damle'}\n",
      "{'emp_id': 93, 'emp_name': 'Sunita Pawar'}\n",
      "{'emp_id': 94, 'emp_name': 'Jatin Batra'}\n",
      "{'emp_id': 95, 'emp_name': 'Kajal Sanghvi'}\n",
      "{'emp_id': 96, 'emp_name': 'Tejas Vaidya'}\n",
      "{'emp_id': 97, 'emp_name': 'Farhan Mirza'}\n",
      "{'emp_id': 98, 'emp_name': 'Bhavana Parikh'}\n",
      "{'emp_id': 99, 'emp_name': 'Sandeep Waghela'}\n",
      "{'emp_id': 100, 'emp_name': 'Chandni Gokhale'}\n"
     ]
    }
   ],
   "source": [
    "for employee in org_data['employees']:\n",
    "    del employee['salary']\n",
    "    print(employee)"
   ]
  },
  {
   "cell_type": "code",
   "execution_count": 16,
   "id": "8ba9d79a",
   "metadata": {},
   "outputs": [
    {
     "name": "stdout",
     "output_type": "stream",
     "text": [
      "{'org_name': 'TechNova Solutions', 'city': 'Bengaluru', 'employees': [{'emp_id': 1, 'emp_name': 'Aarav Verma'}, {'emp_id': 2, 'emp_name': 'Isha Sharma'}, {'emp_id': 3, 'emp_name': 'Ravi Menon'}, {'emp_id': 4, 'emp_name': 'Neha Kapoor'}, {'emp_id': 5, 'emp_name': 'Arjun Nair'}, {'emp_id': 6, 'emp_name': 'Priya Iyer'}, {'emp_id': 7, 'emp_name': 'Kunal Sinha'}, {'emp_id': 8, 'emp_name': 'Meera Das'}, {'emp_id': 9, 'emp_name': 'Rohit Singh'}, {'emp_id': 10, 'emp_name': 'Ananya Ghosh'}, {'emp_id': 11, 'emp_name': 'Vikram Chatterjee'}, {'emp_id': 12, 'emp_name': 'Sonal Mehta'}, {'emp_id': 13, 'emp_name': 'Harshad Kulkarni'}, {'emp_id': 14, 'emp_name': 'Tanya Paul'}, {'emp_id': 15, 'emp_name': 'Dev Patel'}, {'emp_id': 16, 'emp_name': 'Simran Chauhan'}, {'emp_id': 17, 'emp_name': 'Nikhil Rao'}, {'emp_id': 18, 'emp_name': 'Pooja Bhatt'}, {'emp_id': 19, 'emp_name': 'Amit Desai'}, {'emp_id': 20, 'emp_name': 'Shreya Reddy'}, {'emp_id': 21, 'emp_name': 'Suresh Kumar'}, {'emp_id': 22, 'emp_name': 'Kiran Joshi'}, {'emp_id': 23, 'emp_name': 'Jyothi Raj'}, {'emp_id': 24, 'emp_name': 'Mohan Lal'}, {'emp_id': 25, 'emp_name': 'Leela Nair'}, {'emp_id': 26, 'emp_name': 'Sanjay Varma'}, {'emp_id': 27, 'emp_name': 'Deepika Sen'}, {'emp_id': 28, 'emp_name': 'Rajesh Gowda'}, {'emp_id': 29, 'emp_name': 'Kavya Pillai'}, {'emp_id': 30, 'emp_name': 'Vivek Shetty'}, {'emp_id': 31, 'emp_name': 'Anmol Sethi'}, {'emp_id': 32, 'emp_name': 'Swati Prasad'}, {'emp_id': 33, 'emp_name': 'Naresh Kothari'}, {'emp_id': 34, 'emp_name': 'Ritika Agarwal'}, {'emp_id': 35, 'emp_name': 'Akshay Bansal'}, {'emp_id': 36, 'emp_name': 'Geeta Mishra'}, {'emp_id': 37, 'emp_name': 'Tarun Gupta'}, {'emp_id': 38, 'emp_name': 'Monica Shah'}, {'emp_id': 39, 'emp_name': 'Arvind Krishnan'}, {'emp_id': 40, 'emp_name': 'Sneha Wadhwa'}, {'emp_id': 41, 'emp_name': 'Vishal Malhotra'}, {'emp_id': 42, 'emp_name': 'Parul Shinde'}, {'emp_id': 43, 'emp_name': 'Krishna Mohan'}, {'emp_id': 44, 'emp_name': 'Rupa Chawla'}, {'emp_id': 45, 'emp_name': 'Mahesh Srinivasan'}, {'emp_id': 46, 'emp_name': 'Uma Kulkarni'}, {'emp_id': 47, 'emp_name': 'Raman Pillai'}, {'emp_id': 48, 'emp_name': 'Pallavi Saxena'}, {'emp_id': 49, 'emp_name': 'Siddharth Mehra'}, {'emp_id': 50, 'emp_name': 'Juhi Anand'}, {'emp_id': 51, 'emp_name': 'Ankit Sharma'}, {'emp_id': 52, 'emp_name': 'Chitra Joshi'}, {'emp_id': 53, 'emp_name': 'Manoj Reddy'}, {'emp_id': 54, 'emp_name': 'Nandita Bose'}, {'emp_id': 55, 'emp_name': 'Yogesh Prasad'}, {'emp_id': 56, 'emp_name': 'Sanya Kapoor'}, {'emp_id': 57, 'emp_name': 'Rakesh Balakrishnan'}, {'emp_id': 58, 'emp_name': 'Vidya Khatri'}, {'emp_id': 59, 'emp_name': 'Harpreet Singh'}, {'emp_id': 60, 'emp_name': 'Meghna Trivedi'}, {'emp_id': 61, 'emp_name': 'Rajiv Saxena'}, {'emp_id': 62, 'emp_name': 'Seema Bhargava'}, {'emp_id': 63, 'emp_name': 'Ajay Banerjee'}, {'emp_id': 64, 'emp_name': 'Poonam Lata'}, {'emp_id': 65, 'emp_name': 'Sameer Pathak'}, {'emp_id': 66, 'emp_name': 'Kriti Deshmukh'}, {'emp_id': 67, 'emp_name': 'Rahul Arora'}, {'emp_id': 68, 'emp_name': 'Divya Pandey'}, {'emp_id': 69, 'emp_name': 'Zoya Khan'}, {'emp_id': 70, 'emp_name': 'Anupam Jain'}, {'emp_id': 71, 'emp_name': 'Nisha Pillai'}, {'emp_id': 72, 'emp_name': 'Sharad Iyer'}, {'emp_id': 73, 'emp_name': 'Varun Chopra'}, {'emp_id': 74, 'emp_name': 'Ira Bhatnagar'}, {'emp_id': 75, 'emp_name': 'Mohit Ahuja'}, {'emp_id': 76, 'emp_name': 'Rina Fernandes'}, {'emp_id': 77, 'emp_name': 'Vipul Shah'}, {'emp_id': 78, 'emp_name': 'Gayatri Naik'}, {'emp_id': 79, 'emp_name': 'Prakash Menon'}, {'emp_id': 80, 'emp_name': 'Shalini Raut'}, {'emp_id': 81, 'emp_name': 'Roshan Lal'}, {'emp_id': 82, 'emp_name': 'Tanvi Krishnan'}, {'emp_id': 83, 'emp_name': 'Ashwin Jha'}, {'emp_id': 84, 'emp_name': 'Rekha Gupta'}, {'emp_id': 85, 'emp_name': 'Yash Malhotra'}, {'emp_id': 86, 'emp_name': 'Snehal Patil'}, {'emp_id': 87, 'emp_name': 'Omkar Chhabra'}, {'emp_id': 88, 'emp_name': 'Keshaan Bhutani'}, {'emp_id': 89, 'emp_name': 'Lavanya Suri'}, {'emp_id': 90, 'emp_name': 'Saket Rawat'}, {'emp_id': 91, 'emp_name': 'Irfan Qureshi'}, {'emp_id': 92, 'emp_name': 'Alka Damle'}, {'emp_id': 93, 'emp_name': 'Sunita Pawar'}, {'emp_id': 94, 'emp_name': 'Jatin Batra'}, {'emp_id': 95, 'emp_name': 'Kajal Sanghvi'}, {'emp_id': 96, 'emp_name': 'Tejas Vaidya'}, {'emp_id': 97, 'emp_name': 'Farhan Mirza'}, {'emp_id': 98, 'emp_name': 'Bhavana Parikh'}, {'emp_id': 99, 'emp_name': 'Sandeep Waghela'}, {'emp_id': 100, 'emp_name': 'Chandni Gokhale'}]}\n"
     ]
    }
   ],
   "source": [
    "print(org_data)"
   ]
  },
  {
   "cell_type": "code",
   "execution_count": 17,
   "id": "9e14145c",
   "metadata": {},
   "outputs": [],
   "source": [
    "with open('./new_data.json', 'w') as fjson:\n",
    "    json.dump(org_data, fjson)"
   ]
  },
  {
   "cell_type": "code",
   "execution_count": 18,
   "id": "e7fd8a20",
   "metadata": {},
   "outputs": [],
   "source": [
    "with open('./new_data.json', 'w') as fjson:\n",
    "    json.dump(org_data, fjson, indent= 2)"
   ]
  },
  {
   "cell_type": "code",
   "execution_count": null,
   "id": "6de2a835",
   "metadata": {},
   "outputs": [],
   "source": []
  }
 ],
 "metadata": {
  "kernelspec": {
   "display_name": "aimlenv",
   "language": "python",
   "name": "python3"
  },
  "language_info": {
   "codemirror_mode": {
    "name": "ipython",
    "version": 3
   },
   "file_extension": ".py",
   "mimetype": "text/x-python",
   "name": "python",
   "nbconvert_exporter": "python",
   "pygments_lexer": "ipython3",
   "version": "3.12.11"
  }
 },
 "nbformat": 4,
 "nbformat_minor": 5
}
